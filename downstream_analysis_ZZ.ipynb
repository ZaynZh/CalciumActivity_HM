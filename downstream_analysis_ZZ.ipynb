{
 "cells": [
  {
   "cell_type": "code",
   "execution_count": 346,
   "metadata": {},
   "outputs": [],
   "source": [
    "import scipy\n",
    "import numpy as np\n",
    "import json\n",
    "import glob\n",
    "import xarray as xr\n",
    "import matplotlib\n",
    "import matplotlib.pyplot as plt\n",
    "from bisect import bisect_left\n",
    "import statsmodels.api as sm\n",
    "import os"
   ]
  },
  {
   "cell_type": "code",
   "execution_count": 347,
   "metadata": {},
   "outputs": [],
   "source": [
    "def load_bpod_data(dpath):\n",
    "    with open(dpath, 'r') as file:\n",
    "        data = json.load(file)\n",
    "    return data\n",
    "\n",
    "def take_closest(ms_stamps, bpod_stamps):\n",
    "    \"\"\"\n",
    "    Assumes ms_stamps is sorted. Returns closest stamps to the given bpod_stamps.\n",
    "\n",
    "    If two numbers are equally close, return the smallest number.\n",
    "    \"\"\"\n",
    "    msAlignedIndex = []\n",
    "    for bpod_stamp in bpod_stamps:\n",
    "        pos = bisect_left(ms_stamps, bpod_stamp)\n",
    "        if pos == 0:\n",
    "            return ms_stamps[0]\n",
    "        if pos == len(ms_stamps):\n",
    "            return ms_stamps[-1]\n",
    "        before = ms_stamps[pos - 1]\n",
    "        after = ms_stamps[pos]\n",
    "        if after - bpod_stamp < bpod_stamp - before:\n",
    "            msAlignedIndex.append(np.where(ms_stamps ==after))\n",
    "        else:\n",
    "            msAlignedIndex.append(np.where(ms_stamps ==before))\n",
    "    return np.squeeze(np.array(msAlignedIndex))\n",
    "    \n",
    "def get_event_time(event, bpod_data):\n",
    "    \"\"\"\n",
    "    Input a event name and bpod_data. Return the time stamp of the event(relative to trial start)\n",
    "    \"\"\"\n",
    "    onsets = []\n",
    "    for trial in bpod_data[\"SessionData\"]['RawEvents']['Trial']:\n",
    "        if not trial['States']['WrongPort'][0]:\n",
    "            if type(trial['States'][event][0]) != float:\n",
    "                onsets.append(np.squeeze(trial['States'][event][0])[0])\n",
    "            else:\n",
    "                onsets.append(np.squeeze(trial['States'][event])[0])\n",
    "    return np.array(onsets)\n",
    "    \n",
    "def get_RPE_neuron_activities(trialRewards, calcium_activities, calcium_baselines):\n",
    "    \"\"\"Select RPE relative neurons using the method from Muller. 2024 \"\"\"\n",
    "    RPE_neurons = []\n",
    "    RPE_neurons_id = []\n",
    "    for i, singleNeuronActivity in enumerate(calcium_activities):\n",
    "        model = sm.OLS(singleNeuronActivity, trialRewards).fit()\n",
    "        if model.pvalues < 0.005:\n",
    "            # print(singleNeuronActivity)\n",
    "            # print(calcium_baselines[i])\n",
    "            # print(singleNeuronActivity-calcium_baselines[i])\n",
    "            RPE_neurons.append(singleNeuronActivity-calcium_baselines[i])\n",
    "            RPE_neurons_id.append(i)\n",
    "    return np.array(RPE_neurons), np.array(RPE_neurons_id)"
   ]
  },
  {
   "cell_type": "markdown",
   "metadata": {},
   "source": [
    "### Load Data"
   ]
  },
  {
   "cell_type": "code",
   "execution_count": 348,
   "metadata": {},
   "outputs": [],
   "source": [
    "mouse = 'ZZ0024-LR'\n",
    "date = '2024-08-27'\n"
   ]
  },
  {
   "cell_type": "code",
   "execution_count": 349,
   "metadata": {},
   "outputs": [],
   "source": [
    "### load wavesurfer stamps\n",
    "ms_stamps = np.squeeze(scipy.io.loadmat(f\"/Users/fgs/HMLworkplace/Arena_analysis/Data/ws_data/processed/{mouse}/{mouse}_{date}_ms.mat\")['ms_frames_samplingstamps'])\n",
    "bpod_trialstart_stamps = np.squeeze(scipy.io.loadmat(f\"/Users/fgs/HMLworkplace/Arena_analysis/Data/ws_data/processed/{mouse}/{mouse}_{date}_bpod.mat\")['bpod_trialstart_samplingstamps'])"
   ]
  },
  {
   "cell_type": "code",
   "execution_count": 351,
   "metadata": {},
   "outputs": [],
   "source": [
    "### load bpod results\n",
    "bpod_data = load_bpod_data('/Users/fgs/HMLworkplace/Arena_analysis/Data/bpod_data/ZZ0024-LR/ZZ0024-LR_unity_stage3test_v1_20240827_111252.json')\n",
    "trialRewards = np.array(bpod_data[\"SessionData\"]['TrialRewards'])\n",
    "\n",
    "### Exclude wrong trials\n",
    "wrongTrials = []\n",
    "for i, trial in enumerate(bpod_data['SessionData']['RawEvents']['Trial']):\n",
    "    if trial['States']['WrongPort'][0]:\n",
    "        wrongTrials.append(i)\n",
    "trialRewards = np.delete(trialRewards, wrongTrials)"
   ]
  },
  {
   "cell_type": "code",
   "execution_count": null,
   "metadata": {},
   "outputs": [],
   "source": [
    "### load minian results\n",
    "minian_results = xr.open_dataset(f\"/Users/fgs/HMLworkplace/Arena_analysis/Data/minian_data/{mouse}_{date}.netcdf\")"
   ]
  },
  {
   "cell_type": "markdown",
   "metadata": {},
   "source": [
    "### Reversal Points"
   ]
  },
  {
   "cell_type": "code",
   "execution_count": null,
   "metadata": {},
   "outputs": [],
   "source": [
    "BASELINE_WND_DURATION = 0.5\n",
    "ACTIVITY_WND_DURATION = 2\n",
    "FS = 20000\n",
    "\n",
    "\n",
    "### Handle sessions during which the wavesurfer crashed\n",
    "if len(bpod_trialstart_stamps) < 40:\n",
    "    for i in range(len(bpod_trialstart_stamps), 40):\n",
    "        next_stamp = bpod_trialstart_stamps[i-1] + bpod_data['SessionData']['RawEvents']['Trial'][i-1]['States']['EndState'][1] * FS\n",
    "        bpod_trialstart_stamps = np.append(bpod_trialstart_stamps, next_stamp)\n",
    "        \n",
    "bpod_trialstart_stamps = np.delete(bpod_trialstart_stamps, wrongTrials)\n",
    "\n",
    "if (len(minian_results.frame) - len(ms_stamps)) >= 150:\n",
    "    for i in range(len(ms_stamps), len(minian_results.frame)):\n",
    "        next_stamp = ms_stamps[i-1] + int(FS/30)\n",
    "        ms_stamps = np.append(ms_stamps, next_stamp)\n"
   ]
  },
  {
   "cell_type": "code",
   "execution_count": 356,
   "metadata": {},
   "outputs": [],
   "source": [
    "### get the needed bpod events' time stamps\n",
    "toneTime = get_event_time('Tone',bpod_data)\n",
    "rewardTime = get_event_time('Reward', bpod_data)\n",
    "lickingTime = get_event_time('Drinking', bpod_data)\n",
    "\n",
    "### set the baseline window(f0) and get the wavesurfer stamps for baseline window\n",
    "baseline_time = toneTime - BASELINE_WND_DURATION - 0.5 \n",
    "baseline_time = rewardTime - 0.5 # -0.5s to 0s before licking as the baseline window\n",
    "baseline_stamps_bpod = baseline_time*FS + bpod_trialstart_stamps\n",
    "\n",
    "### get the wavesurfer stamps for reward response window\n",
    "reward_stamps_bpod = (rewardTime)*FS + bpod_trialstart_stamps"
   ]
  },
  {
   "cell_type": "code",
   "execution_count": 358,
   "metadata": {},
   "outputs": [],
   "source": [
    "### get the needed events frames\n",
    "FPS = 30\n",
    "FRAME_DOWNSAMPLE = 1\n",
    "\n",
    "### get the baseline start and end frames\n",
    "msBaselineStartFrames = take_closest(ms_stamps, baseline_stamps_bpod)\n",
    "fps = FPS/FRAME_DOWNSAMPLE\n",
    "msBaselineStartFrames = msBaselineStartFrames/FRAME_DOWNSAMPLE\n",
    "msBaselineStartFrames = msBaselineStartFrames.astype(int)\n",
    "msBaselineEndFrames = (msBaselineStartFrames + BASELINE_WND_DURATION*fps).astype(int)\n",
    "\n",
    "### get the reward start and end frames\n",
    "msRewardStartFrames = (take_closest(ms_stamps, reward_stamps_bpod)/FRAME_DOWNSAMPLE).astype(int)\n",
    "msRewardEndFrames = (msRewardStartFrames + ACTIVITY_WND_DURATION*fps).astype(int)\n"
   ]
  },
  {
   "cell_type": "code",
   "execution_count": 359,
   "metadata": {},
   "outputs": [],
   "source": [
    "### calculate the mean calcium activities of baseline windows for each trials\n",
    "calcium_traces = minian_results.C\n",
    "calcium_traces_baselines = []\n",
    "for i, msBaselineStartFrame in enumerate(msBaselineStartFrames):\n",
    "    calcium_baseline_wnd = calcium_traces[:,msBaselineStartFrames[i]:msBaselineEndFrames[i]]\n",
    "    mean = np.mean(calcium_baseline_wnd, axis=1)\n",
    "    calcium_traces_baselines.append(mean)\n",
    "\n",
    "calcium_traces_baselines = np.array(calcium_traces_baselines).T\n",
    "\n",
    "\n",
    "### calculate the mean calcium activities of reward response windows for each trials\n",
    "mean_reward_responses = []\n",
    "\n",
    "for i,msRewardStartFrame in enumerate(msRewardStartFrames):\n",
    "    calcium_activities_wnd = calcium_traces[:,msRewardStartFrames[i]:msRewardEndFrames[i]]\n",
    "    mean = np.mean(calcium_activities_wnd, axis=1)\n",
    "    mean_reward_responses.append(mean)\n",
    "\n",
    "mean_reward_responses = np.array(mean_reward_responses).T"
   ]
  },
  {
   "cell_type": "code",
   "execution_count": 360,
   "metadata": {},
   "outputs": [],
   "source": [
    "### Directly use original calcium activities instead of df/f0\n",
    "no_baseline = np.zeros(calcium_traces_baselines.shape)"
   ]
  },
  {
   "cell_type": "code",
   "execution_count": 361,
   "metadata": {},
   "outputs": [],
   "source": [
    "### get the RPE relative neurons\n",
    "RPE_neurons_reward_responses, RPE_neurons_id= get_RPE_neuron_activities(trialRewards, mean_reward_responses, no_baseline)\n"
   ]
  },
  {
   "cell_type": "code",
   "execution_count": 362,
   "metadata": {},
   "outputs": [],
   "source": [
    "# for i,activity in enumerate(RPE_neurons_rewards_activities):\n",
    "#     fig_path = f'/Users/fgs/HMLworkplace/Arena_analysis/Results_temp/{mouse}/{date}/C/-0.5~1beforelicking'\n",
    "#     if not os.path.exists(fig_path):\n",
    "#         os.makedirs(fig_path)\n",
    "#     slope, intercept, r_value, p_value, std_err = scipy.stats.linregress(trialRewards, activity)\n",
    "#     x_intercept = -intercept / slope\n",
    "#     plt.scatter(trialRewards, activity, color='blue', label='Data Points')\n",
    "#     plt.plot(trialRewards, slope * trialRewards + intercept, color='red', label=f'Fitted Line: y={slope:.2f}x + {intercept:.2f}')\n",
    "#     plt.axhline(0, color='gray', linestyle='--')\n",
    "#     plt.axvline(x_intercept, color='green', linestyle='--', label=f'x-intercept: {x_intercept:.2f}')\n",
    "#     plt.title('Linear Regression and x-intercept')\n",
    "#     plt.xlabel('x')\n",
    "#     plt.ylabel('y')\n",
    "#     plt.legend()\n",
    "#     plt.grid(True)\n",
    "#     plt.savefig(f'{fig_path}/reversal_point{i}.png')\n",
    "#     plt.clf()\n",
    "\n",
    "# x_intercept"
   ]
  },
  {
   "cell_type": "code",
   "execution_count": 363,
   "metadata": {},
   "outputs": [],
   "source": [
    "# for i,activity in enumerate(RPE_neurons_rewards_activities):\n",
    "#     fig_path = f'/Users/fgs/HMLworkplace/Arena_analysis/Results_temp/{mouse}/{date}/C/'\n",
    "#     if not os.path.exists(fig_path):\n",
    "#         os.makedirs(fig_path)\n",
    "#     plt.scatter(trialRewards, activity)\n",
    "#     plt.savefig(f'{fig_path}/RPE_neuron{i}.png')\n",
    "#     plt.clf()"
   ]
  },
  {
   "cell_type": "code",
   "execution_count": 364,
   "metadata": {},
   "outputs": [],
   "source": [
    "### Z-score the mean calcium activities\n",
    "zscored_RPE_reward_responses = (RPE_neurons_reward_responses - np.mean(RPE_neurons_reward_responses, axis=1, keepdims=True))/np.std(RPE_neurons_reward_responses, axis=1, keepdims=True)"
   ]
  },
  {
   "cell_type": "code",
   "execution_count": 365,
   "metadata": {},
   "outputs": [
    {
     "data": {
      "text/plain": [
       "<Figure size 640x480 with 0 Axes>"
      ]
     },
     "metadata": {},
     "output_type": "display_data"
    }
   ],
   "source": [
    "### Estimate and plot reversal points\n",
    "reward_amounts = np.unique(trialRewards)\n",
    "for i,activity in enumerate(zscored_RPE_reward_responses):\n",
    "    fig_path = f'/Users/fgs/HMLworkplace/Arena_analysis/Results_temp/{mouse}/{date}/C/normalized'\n",
    "    if not os.path.exists(fig_path):\n",
    "        os.makedirs(fig_path)\n",
    "    plt.scatter(trialRewards, activity, color='gray', alpha=0.1)\n",
    "    means = []\n",
    "    for reward_amount in reward_amounts:\n",
    "        mean = np.mean(activity[trialRewards == reward_amount])\n",
    "        std = np.std(activity[trialRewards == reward_amount])\n",
    "        means.append(mean)\n",
    "        #plt.scatter(reward_amount, mean, color='orange', s=50)\n",
    "        plt.errorbar(reward_amount, mean, yerr=std, fmt='o', color='orange', ecolor='lightgray', elinewidth=2, capsize=4)\n",
    "    means = np.array(means)\n",
    "    reward_amounts = np.array(reward_amounts)\n",
    "    slope, intercept, r_value, p_value, std_err = scipy.stats.linregress(trialRewards, activity)\n",
    "    plt.plot(reward_amounts, slope * reward_amounts + intercept, color='orange', label=f'RP={-(intercept/slope)}')\n",
    "    plt.legend()\n",
    "    plt.savefig(f'{fig_path}/RPE_neuron{RPE_neurons_id[i]}.png')\n",
    "    plt.clf()"
   ]
  },
  {
   "cell_type": "markdown",
   "metadata": {},
   "source": [
    "### Calcium Trace Plot\n"
   ]
  },
  {
   "cell_type": "code",
   "execution_count": 343,
   "metadata": {},
   "outputs": [],
   "source": [
    "### A function to plot given calcium activity around time points of interest\n",
    "def plot_calcium(reward_amounts, neural_signal, neuron_id, save_path):\n",
    "    fig, axs = plt.subplots(1, len(reward_amounts), figsize=(14,10))\n",
    "    time_range = np.linspace(-3,3,180)\n",
    "    max_ylim = 0\n",
    "    for reward_amount in reward_amounts:    \n",
    "        max = np.max(neural_signal[reward_amount])\n",
    "        if max >= max_ylim:\n",
    "            max_ylim = max\n",
    "    for i, reward_amount in enumerate(reward_amounts):\n",
    "        ax = axs.flat[i]\n",
    "        colors = plt.cm.viridis(np.linspace(0, 1, len(neural_signal[reward_amount])))\n",
    "        average_signal = np.mean(neural_signal[reward_amount], axis=0)\n",
    "\n",
    "        for j, series in enumerate(neural_signal[reward_amount]):\n",
    "            ax.plot(time_range, series, color=colors[j], alpha=0.5)\n",
    "        \n",
    "        ax.plot(time_range, average_signal, color = 'black', linewidth = 2, label='Average')\n",
    "        #max_ylim = max(ax.get_ylim(), key=abs)\n",
    "        ax.set_ylim(0, max_ylim)        \n",
    "        ax.set_title(f'Reward amount {reward_amount}')\n",
    "        ax.set_xlabel('Time')\n",
    "        ax.set_ylabel('Raw fluorescence')\n",
    "        ax.legend()\n",
    "    fig.suptitle(f'Neuron{neuron_id} activity around reward', fontsize=16)\n",
    "    plt.tight_layout(rect=[0, 0, 1, 0.96])\n",
    "    fig.savefig(f'{save_path}/neuron{neuron_id}.png')\n",
    "    plt.close(fig)\n"
   ]
  },
  {
   "cell_type": "code",
   "execution_count": 344,
   "metadata": {},
   "outputs": [],
   "source": [
    "### A function to plot calcium activity as Muller. 2024 style\n",
    "def plot_calcium_DRL(reward_amounts, neural_signal, neuron_id, save_path):\n",
    "    cmap = plt.get_cmap(\"tab10\")\n",
    "    colors = [cmap(i) for i in np.linspace(0, 1, len(reward_amounts))]\n",
    "    fig = plt.figure(figsize=(14,10))\n",
    "    time_range = np.linspace(-3,3,180)\n",
    "    for i, reward_amount in enumerate(reward_amounts):\n",
    "        average_signal = np.mean(neural_signal[reward_amount], axis=0)\n",
    "        std = np.std(neural_signal[reward_amount], axis=0)\n",
    "        plt.plot(time_range, average_signal, color=colors[i], label=f'reward{reward_amount}')\n",
    "        plt.fill_between(time_range, average_signal-std, average_signal+std, color=colors[i], alpha=0.2)\n",
    "        plt.legend()\n",
    "    plt.xlabel('Times')\n",
    "    plt.ylabel('Raw fluorescence')\n",
    "    fig.suptitle(f'Neuron{neuron_id} activity around reward', fontsize=16)\n",
    "    fig.savefig(f'{save_path}/neuron{neuron_id}.png')\n",
    "    plt.close(fig)"
   ]
  },
  {
   "cell_type": "code",
   "execution_count": null,
   "metadata": {},
   "outputs": [],
   "source": [
    "reward_amounts = np.unique(trialRewards)\n",
    "\n",
    "### Plot calcium activites around reward onset\n",
    "# Iterate all neurons\n",
    "for k, single_neuron_C in enumerate(minian_results.C):\n",
    "    singleNeuronAroundReward = {}\n",
    "    # Iterate all reward amounts\n",
    "    for reward_amount in reward_amounts:\n",
    "        msRewardFrames = take_closest(ms_stamps, reward_stamps_bpod[trialRewards == reward_amount]).astype(int)\n",
    "        rewardWindowStarts = msRewardFrames - FPS*3\n",
    "        rewardWindowEnds = msRewardFrames + FPS*3\n",
    "        calciumTracesAroundReward_list = []\n",
    "    # Iterate all licking time stamps in trials with a specific reward amount\n",
    "        for i, rewardWindowStart in enumerate(rewardWindowStarts):\n",
    "            rewardWindowEnd = rewardWindowEnds[i]\n",
    "            calciumTracesAroundReward = single_neuron_C[rewardWindowStart:rewardWindowEnd]\n",
    "            calciumTracesAroundReward_list.append(calciumTracesAroundReward)\n",
    "        singleNeuronAroundReward[reward_amount] = np.array(calciumTracesAroundReward_list)\n",
    "    save_path = f'/Users/fgs/HMLworkplace/Arena_analysis/Results_temp/{mouse}/{date}/activitiesAroundReward'\n",
    "    save_pathDRL = f'/Users/fgs/HMLworkplace/Arena_analysis/Results_temp/{mouse}/{date}/DRL'\n",
    "    if not os.path.exists(save_path):\n",
    "        os.makedirs(save_path)\n",
    "    if not os.path.exists(save_pathDRL):\n",
    "        os.makedirs(save_pathDRL)\n",
    "    plot_calcium(reward_amounts, singleNeuronAroundReward, k, \n",
    "                 save_path=save_path)\n",
    "    plot_calcium_DRL(reward_amounts, singleNeuronAroundReward, k,\n",
    "                     save_path=save_pathDRL)\n",
    "    \n"
   ]
  }
 ],
 "metadata": {
  "kernelspec": {
   "display_name": "ms_analysis",
   "language": "python",
   "name": "python3"
  },
  "language_info": {
   "codemirror_mode": {
    "name": "ipython",
    "version": 3
   },
   "file_extension": ".py",
   "mimetype": "text/x-python",
   "name": "python",
   "nbconvert_exporter": "python",
   "pygments_lexer": "ipython3",
   "version": "3.12.4"
  }
 },
 "nbformat": 4,
 "nbformat_minor": 2
}
