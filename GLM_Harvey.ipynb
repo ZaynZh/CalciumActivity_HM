{
 "cells": [
  {
   "cell_type": "code",
   "execution_count": 2,
   "metadata": {},
   "outputs": [],
   "source": [
    "import numpy as np\n",
    "import scipy.stats\n",
    "from sklearn.model_selection import train_test_split, GroupShuffleSplit\n",
    "import tensorflow as tf\n",
    "import matplotlib\n",
    "import matplotlib.pyplot as plt\n",
    "import glm_class as glm\n",
    "%matplotlib inline"
   ]
  },
  {
   "cell_type": "code",
   "execution_count": 3,
   "metadata": {},
   "outputs": [
    {
     "name": "stdout",
     "output_type": "stream",
     "text": [
      "tensorflow version 2.18.0\n",
      "keras version 3.8.0\n",
      "Eager Execution Enabled: True\n",
      "INFO:tensorflow:Using MirroredStrategy with devices ('/job:localhost/replica:0/task:0/device:CPU:0',)\n",
      "Number of replicas: 1\n",
      "Devices: [PhysicalDevice(name='/physical_device:CPU:0', device_type='CPU')]\n",
      "[]\n",
      "GPU Available:  []\n",
      "All Physical Devices [PhysicalDevice(name='/physical_device:CPU:0', device_type='CPU')]\n"
     ]
    }
   ],
   "source": [
    "\n",
    "# Check version and eager execution state\n",
    "print(\"tensorflow version\", tf.__version__)\n",
    "print(\"keras version\", tf.keras.__version__)\n",
    "print(\"Eager Execution Enabled:\", tf.executing_eagerly())\n",
    "\n",
    "# Get the number of replicas \n",
    "strategy = tf.distribute.MirroredStrategy()\n",
    "print(\"Number of replicas:\", strategy.num_replicas_in_sync)\n",
    "\n",
    "# Get available devices\n",
    "devices = tf.config.experimental.get_visible_devices()\n",
    "print(\"Devices:\", devices)\n",
    "print(tf.config.experimental.list_logical_devices('GPU'))\n",
    "\n",
    "print(\"GPU Available: \", tf.config.list_physical_devices('GPU'))\n",
    "print(\"All Physical Devices\", tf.config.list_physical_devices())"
   ]
  },
  {
   "cell_type": "code",
   "execution_count": 4,
   "metadata": {},
   "outputs": [],
   "source": [
    "def generate_dataset(model_type = 'gaussian', n_samples = 1000, n_features = 50, n_responses = 100, \n",
    "                     fraction_observed_features = 0.8, clip_Y_value = 10000., plot_mean_responses = True):\n",
    "    # Generate X\n",
    "    X_full = np.random.normal(size = (n_samples, n_features)) \n",
    "\n",
    "    # Create some collinearity in X\n",
    "    X_full[:,n_features//10:2*n_features//10] = X_full[:,:n_features//10] + np.random.normal(scale = 0.5, size = (n_samples, n_features//10))\n",
    "\n",
    "    # Z-score predictors\n",
    "    X_full = scipy.stats.zscore(X_full, axis = 0)\n",
    "\n",
    "    # Create weights and biases\n",
    "    w_true = np.random.normal(scale = 0.25, size = (n_features, n_responses))\n",
    "    w0_true = np.random.normal(loc = 1.2, scale = 0.25, size = n_responses)\n",
    "\n",
    "    # Generate Y\n",
    "    if model_type == 'gaussian':\n",
    "        Y = np.dot(X_full, w_true) + w0_true + np.random.normal(scale = 0.25, size = (n_samples, n_responses))  \n",
    "    elif model_type == 'poisson':\n",
    "        Y = scipy.stats.poisson.rvs(np.exp(np.dot(X_full, w_true) + w0_true)) \n",
    "\n",
    "    # Clip Y\n",
    "    Y = np.minimum(Y, clip_Y_value)\n",
    "    \n",
    "    # Plot mean values for all responses\n",
    "    if plot_mean_responses == True:\n",
    "        plt.hist(Y.mean(axis = 0), bins = 20)\n",
    "        plt.title('Distribution of mean Y')\n",
    "        plt.xlabel('Mean Y')\n",
    "        plt.ylabel('Count')\n",
    "\n",
    "    # Remove some features from X as \"unobserved\" (so the mean fraction deviance explained should <= fraction_observed_predictor)\n",
    "    n_observed_features = int(fraction_observed_features*n_features)\n",
    "    X = X_full[:,:n_observed_features]\n",
    "\n",
    "    return X, Y, w_true[:n_observed_features,:], w0_true"
   ]
  },
  {
   "cell_type": "code",
   "execution_count": 5,
   "metadata": {},
   "outputs": [
    {
     "name": "stdout",
     "output_type": "stream",
     "text": [
      "Shape of observed X = (5000, 160)\n",
      "Shape of Y = (5000, 100)\n",
      "Shape of true weights (observed part) = (160, 100)\n",
      "Shape of true intercepts = (100,)\n"
     ]
    },
    {
     "data": {
      "image/png": "[encoded data removed]",
      "text/plain": [
       "<Figure size 640x480 with 1 Axes>"
      ]
     },
     "metadata": {},
     "output_type": "display_data"
    }
   ],
   "source": [
    "# Generate data with Gaussian model\n",
    "X, Y, w_true, w0_true = generate_dataset(model_type = 'gaussian', n_samples = 5000, n_features = 200, n_responses = 100, \n",
    "                                         fraction_observed_features = 0.8, clip_Y_value = 10000., plot_mean_responses = True)\n",
    "\n",
    "print('Shape of observed X =', X.shape)\n",
    "print('Shape of Y =', Y.shape)\n",
    "print('Shape of true weights (observed part) =', w_true.shape)\n",
    "print('Shape of true intercepts =', w0_true.shape)\n",
    "     "
   ]
  },
  {
   "cell_type": "code",
   "execution_count": 6,
   "metadata": {},
   "outputs": [],
   "source": [
    "\n",
    "## Split data into train and test set\n",
    "test_size = 0.3\n",
    "\n",
    "# Split data randomly with train_test_split function from sklearn\n",
    "X_train, X_test_val, Y_train, Y_test_val = train_test_split(X, Y, test_size = test_size, random_state = 42)\n",
    "\n",
    "# Further split test_val data into two: for validation and test\n",
    "n_val = X_test_val.shape[0]//2\n",
    "X_val = X_test_val[:n_val,:]\n",
    "Y_val = Y_test_val[:n_val,:]\n",
    "X_test = X_test_val[n_val:,:]\n",
    "Y_test = Y_test_val[n_val:,:]"
   ]
  },
  {
   "cell_type": "code",
   "execution_count": null,
   "metadata": {},
   "outputs": [],
   "source": [
    "\n",
    "# Reset all keras states\n",
    "tf.keras.backend.clear_session()\n",
    "\n",
    "# Initialize GLM \n",
    "model = glm.GLM(activation = 'linear', loss_type = 'gaussian', \n",
    "                regularization = 'elastic_net', lambda_series = 10.0 ** np.linspace(3, -6, 10), l1_ratio = 0., smooth_strength = 0., \n",
    "                optimizer = 'adam', learning_rate = 1e-2, momentum = 0.5, \n",
    "                min_iter_per_lambda = 100, max_iter_per_lambda = 10**4, num_iter_check = 100, convergence_tol = 1e-6)"
   ]
  },
  {
   "cell_type": "code",
   "execution_count": null,
   "metadata": {},
   "outputs": [],
   "source": [
    "\n",
    "# Fit the model to training data\n",
    "model.fit(X_train, Y_train, verbose = True)"
   ]
  }
 ],
 "metadata": {
  "kernelspec": {
   "display_name": "ms_analysis",
   "language": "python",
   "name": "python3"
  },
  "language_info": {
   "codemirror_mode": {
    "name": "ipython",
    "version": 3
   },
   "file_extension": ".py",
   "mimetype": "text/x-python",
   "name": "python",
   "nbconvert_exporter": "python",
   "pygments_lexer": "ipython3",
   "version": "3.12.4"
  }
 },
 "nbformat": 4,
 "nbformat_minor": 2
}
