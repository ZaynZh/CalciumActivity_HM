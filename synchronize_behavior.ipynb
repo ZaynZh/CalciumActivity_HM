{
 "cells": [
  {
   "cell_type": "code",
   "execution_count": 14,
   "metadata": {},
   "outputs": [],
   "source": [
    "import cv2\n",
    "import numpy as np\n",
    "import matplotlib.pyplot as plt\n",
    "import xarray as xr"
   ]
  },
  {
   "cell_type": "code",
   "execution_count": 4,
   "metadata": {},
   "outputs": [],
   "source": [
    "mouse = 'ZZ0024-LR'\n",
    "date = '2024-08-16'"
   ]
  },
  {
   "cell_type": "code",
   "execution_count": 5,
   "metadata": {},
   "outputs": [],
   "source": [
    "minian_results = xr.open_dataset(f\"/Users/fgs/HMLworkplace/Arena_analysis/Data/minian_data/{mouse}_{date}.netcdf\")"
   ]
  },
  {
   "cell_type": "code",
   "execution_count": 10,
   "metadata": {},
   "outputs": [],
   "source": [
    "calciam_traces = minian_results.C"
   ]
  },
  {
   "cell_type": "code",
   "execution_count": 26,
   "metadata": {},
   "outputs": [],
   "source": [
    "sample_C = calciam_traces[0]"
   ]
  },
  {
   "cell_type": "code",
   "execution_count": 27,
   "metadata": {},
   "outputs": [],
   "source": [
    "sample_C = np.array(sample_C)"
   ]
  },
  {
   "cell_type": "code",
   "execution_count": 34,
   "metadata": {},
   "outputs": [
    {
     "ename": "",
     "evalue": "",
     "output_type": "error",
     "traceback": [
      "\u001b[1;31mThe Kernel crashed while executing code in the current cell or a previous cell. \n",
      "\u001b[1;31mPlease review the code in the cell(s) to identify a possible cause of the failure. \n",
      "\u001b[1;31mClick <a href='https://aka.ms/vscodeJupyterKernelCrash'>here</a> for more info. \n",
      "\u001b[1;31mView Jupyter <a href='command:jupyter.viewOutput'>log</a> for further details."
     ]
    }
   ],
   "source": [
    "\n",
    "# Sample time series data\n",
    "frames = np.linspace(0, len(sample_C), len(sample_C))  # Time points (ensure uniform spacing)\n",
    "\n",
    "# Video settings\n",
    "width, height = 800, 600\n",
    "fps = 30\n",
    "video_path = \"/Users/fgs/HMLworkplace/Arena_analysis/sample_calcium.mp4\"\n",
    "\n",
    "# Create a video writer\n",
    "fourcc = cv2.VideoWriter_fourcc(*'mp4v')\n",
    "video = cv2.VideoWriter(video_path, fourcc, fps, (width, height))\n",
    "\n",
    "# Plot settings\n",
    "window_size = 50  # Number of frames in the fixed window\n",
    "\n",
    "for i in range(window_size // 2, len(sample_C) - window_size // 2):\n",
    "    plt.figure(figsize=(8, 6))\n",
    "    \n",
    "    # Determine the window range\n",
    "    start_idx = i - window_size // 2\n",
    "    end_idx = i + window_size // 2\n",
    "    \n",
    "    # Set the background color to black\n",
    "    plt.style.use('dark_background')\n",
    "    \n",
    "    # Plot the fixed window\n",
    "    plt.plot(frames[start_idx:end_idx], sample_C[start_idx:end_idx], 'cyan', lw=2)\n",
    "    \n",
    "    # Plot the moving dot at the center of the window\n",
    "    plt.scatter(frames[i], sample_C[i], color='red', s=50)\n",
    "    \n",
    "    # Remove axes, labels, and title\n",
    "    plt.axis('off')\n",
    "    \n",
    "    # Keep aspect ratio consistent\n",
    "    plt.gca().set_aspect('auto', adjustable='box')\n",
    "    \n",
    "    # Save the current frame as an image\n",
    "    plt.tight_layout(pad=0)\n",
    "    plt.savefig(\"frame.png\", dpi=100, bbox_inches='tight', pad_inches=0)\n",
    "    plt.close()\n",
    "    \n",
    "    # Read the frame image and convert it to OpenCV format\n",
    "    frame = cv2.imread(\"frame.png\")\n",
    "    frame = cv2.resize(frame, (width, height))\n",
    "    video.write(frame)\n",
    "\n",
    "# Release the video writer\n",
    "video.release()\n",
    "\n",
    "print(f\"Video saved at {video_path}\")\n",
    "\n"
   ]
  }
 ],
 "metadata": {
  "kernelspec": {
   "display_name": "ms_analysis",
   "language": "python",
   "name": "python3"
  },
  "language_info": {
   "codemirror_mode": {
    "name": "ipython",
    "version": 3
   },
   "file_extension": ".py",
   "mimetype": "text/x-python",
   "name": "python",
   "nbconvert_exporter": "python",
   "pygments_lexer": "ipython3",
   "version": "3.12.4"
  }
 },
 "nbformat": 4,
 "nbformat_minor": 2
}
